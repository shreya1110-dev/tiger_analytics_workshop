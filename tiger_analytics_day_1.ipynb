{
  "nbformat": 4,
  "nbformat_minor": 0,
  "metadata": {
    "colab": {
      "name": "tiger_analytics_day_1.ipynb",
      "provenance": [],
      "authorship_tag": "ABX9TyO2Gt621bcm2Xzc+pNpPeyV",
      "include_colab_link": true
    },
    "kernelspec": {
      "name": "python3",
      "display_name": "Python 3"
    },
    "language_info": {
      "name": "python"
    }
  },
  "cells": [
    {
      "cell_type": "markdown",
      "metadata": {
        "id": "view-in-github",
        "colab_type": "text"
      },
      "source": [
        "<a href=\"https://colab.research.google.com/github/shreya1110-dev/tiger_analytics_workshop/blob/main/tiger_analytics_day_1.ipynb\" target=\"_parent\"><img src=\"https://colab.research.google.com/assets/colab-badge.svg\" alt=\"Open In Colab\"/></a>"
      ]
    },
    {
      "cell_type": "markdown",
      "source": [
        "Q1: Write a function that takens a list as an argument and returns the number of unique triplets such that sum of two elements equals the third element\n",
        "# eg - [1, 5, 3, 2] - return 2 (1 + 2 = 3 and 3 + 2 =5)"
      ],
      "metadata": {
        "id": "JpY6KwIWle8L"
      }
    },
    {
      "cell_type": "code",
      "execution_count": 39,
      "metadata": {
        "id": "3U2w1IpglXWu"
      },
      "outputs": [],
      "source": [
        "def triplets(a, k):\n",
        "  res = []\n",
        "  for i in range(0, len(a)):\n",
        "    for j in range(i+1, len(a)):\n",
        "      if((a[i] + a[j]) in a):\n",
        "        res.append([a[j],a[i],(a[i]+a[j])])\n",
        "  return res\n"
      ]
    },
    {
      "cell_type": "code",
      "source": [
        "a = [1,5,6,2,3]\n",
        "k = 4\n",
        "print(triplets(a,k))"
      ],
      "metadata": {
        "colab": {
          "base_uri": "https://localhost:8080/"
        },
        "id": "xke12X6llc7U",
        "outputId": "23411511-f2b6-4931-858d-e6d9d306fdc7"
      },
      "execution_count": 40,
      "outputs": [
        {
          "output_type": "stream",
          "name": "stdout",
          "text": [
            "[[5, 1, 6], [2, 1, 3], [3, 2, 5]]\n"
          ]
        }
      ]
    },
    {
      "cell_type": "markdown",
      "source": [
        "Q2: Write a function which takes as input a list and two integers (N & K) and returns the Nth smallest number greater than K from the list"
      ],
      "metadata": {
        "id": "GoLIE1cgldZq"
      }
    },
    {
      "cell_type": "code",
      "source": [
        "def nthsmallest(a,k,n):\n",
        "  a.sort()\n",
        "  left = 0\n",
        "  right = len(a)-1\n",
        "  while(left <= right):\n",
        "    mid = (left+right)//2\n",
        "    if(a[mid]==k):\n",
        "      return a[mid+n]\n",
        "    elif(a[mid] > k):\n",
        "      right = mid-1\n",
        "    else:\n",
        "      left = left+1"
      ],
      "metadata": {
        "id": "ngeQxjEKnS7D"
      },
      "execution_count": 41,
      "outputs": []
    },
    {
      "cell_type": "code",
      "source": [
        "a = [1,5,6,4,2,3]\n",
        "k = 2\n",
        "n = 2\n",
        "print(nthsmallest(a,k,n))\n",
        "print(a)"
      ],
      "metadata": {
        "colab": {
          "base_uri": "https://localhost:8080/"
        },
        "id": "NRJ65oVgocaO",
        "outputId": "a79af372-e635-4c50-e367-a40539b7e4e2"
      },
      "execution_count": 45,
      "outputs": [
        {
          "output_type": "stream",
          "name": "stdout",
          "text": [
            "4\n",
            "[1, 2, 3, 4, 5, 6]\n"
          ]
        }
      ]
    },
    {
      "cell_type": "code",
      "source": [
        ""
      ],
      "metadata": {
        "id": "0r6OgqvHp5HP"
      },
      "execution_count": null,
      "outputs": []
    },
    {
      "cell_type": "markdown",
      "source": [
        "Q3: Write a function that takes as input a string and returns the average word length and the average word length of palindromes if any in the string.\n",
        "# Clean the input string by removing characters like \"!?,;.\"\n",
        "# Palindrome words must at least have three letters\n"
      ],
      "metadata": {
        "id": "lg89bV_Bp6Im"
      }
    },
    {
      "cell_type": "code",
      "source": [
        ""
      ],
      "metadata": {
        "id": "qB_jYItEp5Ko"
      },
      "execution_count": null,
      "outputs": []
    },
    {
      "cell_type": "code",
      "source": [
        ""
      ],
      "metadata": {
        "id": "27RGwFbqp5QI"
      },
      "execution_count": null,
      "outputs": []
    }
  ]
}
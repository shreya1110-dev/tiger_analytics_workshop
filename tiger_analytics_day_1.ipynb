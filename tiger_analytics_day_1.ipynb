{
  "nbformat": 4,
  "nbformat_minor": 0,
  "metadata": {
    "colab": {
      "name": "tiger_analytics_day_1.ipynb",
      "provenance": [],
      "authorship_tag": "ABX9TyOSNfWbBTxGuOsPbPjd8yeh",
      "include_colab_link": true
    },
    "kernelspec": {
      "name": "python3",
      "display_name": "Python 3"
    },
    "language_info": {
      "name": "python"
    }
  },
  "cells": [
    {
      "cell_type": "markdown",
      "metadata": {
        "id": "view-in-github",
        "colab_type": "text"
      },
      "source": [
        "<a href=\"https://colab.research.google.com/github/shreya1110-dev/tiger_analytics_workshop/blob/day_1/tiger_analytics_day_1.ipynb\" target=\"_parent\"><img src=\"https://colab.research.google.com/assets/colab-badge.svg\" alt=\"Open In Colab\"/></a>"
      ]
    },
    {
      "cell_type": "markdown",
      "source": [
        "Q1: Write a function that takens a list as an argument and returns the number of unique triplets such that sum of two elements equals the third element\n",
        "# eg - [1, 5, 3, 2] - return 2 (1 + 2 = 3 and 3 + 2 =5)"
      ],
      "metadata": {
        "id": "JpY6KwIWle8L"
      }
    },
    {
      "cell_type": "code",
      "execution_count": 13,
      "metadata": {
        "id": "3U2w1IpglXWu"
      },
      "outputs": [],
      "source": [
        "def triplets(a, k):\n",
        "  res = []\n",
        "  for i in range(0, len(a)):\n",
        "    for j in range(i+1, len(a)):\n",
        "      if((a[i] + a[j]) in a):\n",
        "        res.append([a[j],a[i],(a[i]+a[j])])\n",
        "  return res\n"
      ]
    },
    {
      "cell_type": "code",
      "source": [
        "a = [1,5,6,2,3]\n",
        "k = 4\n",
        "print(triplets(a,k))"
      ],
      "metadata": {
        "colab": {
          "base_uri": "https://localhost:8080/"
        },
        "id": "xke12X6llc7U",
        "outputId": "c3c4c35c-356e-4db6-b4c2-a645efeb52a8"
      },
      "execution_count": 14,
      "outputs": [
        {
          "output_type": "stream",
          "name": "stdout",
          "text": [
            "[[5, 1, 6], [2, 1, 3], [3, 2, 5]]\n"
          ]
        }
      ]
    },
    {
      "cell_type": "markdown",
      "source": [
        "Q2: Write a function which takes as input a list and two integers (N & K) and returns the Nth smallest number greater than K from the list"
      ],
      "metadata": {
        "id": "GoLIE1cgldZq"
      }
    },
    {
      "cell_type": "code",
      "source": [
        "def nthsmallest(a,k,n):\n",
        "  a.sort()\n",
        "  left = 0\n",
        "  right = len(a)-1\n",
        "  while(left <= right):\n",
        "    mid = (left+right)//2\n",
        "    if(a[mid]==k):\n",
        "      return a[mid+n]\n",
        "    elif(a[mid] > k):\n",
        "      right = mid-1\n",
        "    else:\n",
        "      left = left+1"
      ],
      "metadata": {
        "id": "ngeQxjEKnS7D"
      },
      "execution_count": 15,
      "outputs": []
    },
    {
      "cell_type": "code",
      "source": [
        "a = [1,5,6,4,2,3]\n",
        "k = 2\n",
        "n = 2\n",
        "print(nthsmallest(a,k,n))\n",
        "print(a)"
      ],
      "metadata": {
        "colab": {
          "base_uri": "https://localhost:8080/"
        },
        "id": "NRJ65oVgocaO",
        "outputId": "cfbf8bac-6014-4913-ba8f-4efbd042ac03"
      },
      "execution_count": 16,
      "outputs": [
        {
          "output_type": "stream",
          "name": "stdout",
          "text": [
            "4\n",
            "[1, 2, 3, 4, 5, 6]\n"
          ]
        }
      ]
    },
    {
      "cell_type": "markdown",
      "source": [
        "Q3: Write a function that takes as input a string and returns the average word length and the average word length of palindromes if any in the string.\n",
        "# Clean the input string by removing characters like \"!?,;.\"\n",
        "# Palindrome words must at least have three letters\n"
      ],
      "metadata": {
        "id": "lg89bV_Bp6Im"
      }
    },
    {
      "cell_type": "code",
      "source": [
        "def palindrome(a):\n",
        "  remove_chars = ['!','?',',',';','.']\n",
        "  s = \"\"\n",
        "  for i in range(len(a)):\n",
        "    if(a[i] in remove_chars):\n",
        "      continue\n",
        "    s = s + a[i]\n",
        "  wc = 0\n",
        "  cc = 0\n",
        "  words = s.split()\n",
        "  avg = 0\n",
        "  avg_palin = 0\n",
        "  palin = 0\n",
        "  for word in words:\n",
        "    avg += len(word)\n",
        "    if(len(word)>3 and word[::-1]==word):\n",
        "      avg_palin += len(word)\n",
        "      palin += 1\n",
        "  print(\"Average length of words is:\",avg/len(word))\n",
        "  print(\"Average length of palindrome is:\", avg_palin/palin)"
      ],
      "metadata": {
        "id": "qB_jYItEp5Ko"
      },
      "execution_count": 17,
      "outputs": []
    },
    {
      "cell_type": "code",
      "source": [
        "palindrome(\"Hi madam, are you madam?\")"
      ],
      "metadata": {
        "colab": {
          "base_uri": "https://localhost:8080/"
        },
        "id": "27RGwFbqp5QI",
        "outputId": "213e37bd-18e5-4ff9-fb75-2a83fd4a432d"
      },
      "execution_count": 18,
      "outputs": [
        {
          "output_type": "stream",
          "name": "stdout",
          "text": [
            "Average length of words is: 3.6\n",
            "Average length of palindrome is: 5.0\n"
          ]
        }
      ]
    },
    {
      "cell_type": "markdown",
      "source": [
        "Q4: Given a string return the first non repeating character. All characters will be lowercase. return -1 if no character is unique"
      ],
      "metadata": {
        "id": "PXDpoxk5uwlq"
      }
    },
    {
      "cell_type": "code",
      "source": [
        "def unique(s):\n",
        "  dic = {}\n",
        "  cnt = 0\n",
        "  for character in s:\n",
        "    if(character in dic):\n",
        "      first = character\n",
        "      dic[character]+=1\n",
        "    else:\n",
        "      dic[character] = 1\n",
        "  if(dic[character] == len(s)):\n",
        "    return -1\n",
        "  else:\n",
        "    return first"
      ],
      "metadata": {
        "id": "H1_MTlP6ufSw"
      },
      "execution_count": 19,
      "outputs": []
    },
    {
      "cell_type": "code",
      "source": [
        "print(unique(\"hiiii\"))\n",
        "print(unique(\"hello\"))\n",
        "print(unique(\"hhhh\"))"
      ],
      "metadata": {
        "colab": {
          "base_uri": "https://localhost:8080/"
        },
        "id": "DPaXwThqvR_z",
        "outputId": "fd940c24-07a2-4756-cad7-3d39d8295c20"
      },
      "execution_count": 20,
      "outputs": [
        {
          "output_type": "stream",
          "name": "stdout",
          "text": [
            "i\n",
            "l\n",
            "-1\n"
          ]
        }
      ]
    },
    {
      "cell_type": "markdown",
      "source": [
        "Given a list, write a function to move all zeroes to the end of it while maintaining the relative order of the non-zero elements."
      ],
      "metadata": {
        "id": "Fyo-3WEivrJs"
      }
    },
    {
      "cell_type": "code",
      "source": [
        "def move_zeroes(a):\n",
        "  left = 0\n",
        "  zeroes = 0\n",
        "  new = []\n",
        "  for i in range(0,len(a)):\n",
        "    if(a[i] == 0):\n",
        "      zeroes += 1\n",
        "    else:\n",
        "      new.append(a[i])\n",
        "  for i in range(zeroes):\n",
        "    new.append(0)\n",
        "  return new"
      ],
      "metadata": {
        "id": "--Df1zvtvuC4"
      },
      "execution_count": 21,
      "outputs": []
    },
    {
      "cell_type": "code",
      "source": [
        "a = [1,5,0,4,5,2]\n",
        "move_zeroes(a)"
      ],
      "metadata": {
        "colab": {
          "base_uri": "https://localhost:8080/"
        },
        "id": "usfeDMwNxWna",
        "outputId": "319071b7-6bc1-4c77-9306-d41d15166ade"
      },
      "execution_count": 22,
      "outputs": [
        {
          "output_type": "execute_result",
          "data": {
            "text/plain": [
              "[1, 5, 4, 5, 2, 0]"
            ]
          },
          "metadata": {},
          "execution_count": 22
        }
      ]
    },
    {
      "cell_type": "markdown",
      "source": [
        "json files"
      ],
      "metadata": {
        "id": "qaY0JkUpzKKU"
      }
    },
    {
      "cell_type": "markdown",
      "source": [
        "Read the json data file"
      ],
      "metadata": {
        "id": "jbhEs28wzOMD"
      }
    },
    {
      "cell_type": "code",
      "source": [
        "import json\n",
        "\n",
        "with open('restaurent_ratings (1).json', 'r') as f:\n",
        "  data = json.load(f)\n",
        "\n",
        "data"
      ],
      "metadata": {
        "colab": {
          "base_uri": "https://localhost:8080/"
        },
        "id": "C6MQPJujzIsi",
        "outputId": "0041a6c2-7abb-4172-aeeb-0f89dcd9a8a4"
      },
      "execution_count": 23,
      "outputs": [
        {
          "output_type": "execute_result",
          "data": {
            "text/plain": [
              "{'page_1': [{'city': 'Denver',\n",
              "   'estimated_cost': 180,\n",
              "   'id': 31,\n",
              "   'name': 'Sushi Kashiba',\n",
              "   'user_rating': {'average_rating': 4.9, 'votes': 4175}},\n",
              "  {'city': 'Denver',\n",
              "   'estimated_cost': 120,\n",
              "   'id': 32,\n",
              "   'name': 'Peninsula Grand Hotel',\n",
              "   'user_rating': {'average_rating': 4.9, 'votes': 644}},\n",
              "  {'city': 'Denver',\n",
              "   'estimated_cost': 150,\n",
              "   'id': 33,\n",
              "   'name': 'Lord Of The Drinks',\n",
              "   'user_rating': {'average_rating': 4.7, 'votes': 2316}},\n",
              "  {'city': 'Denver',\n",
              "   'estimated_cost': 150,\n",
              "   'id': 34,\n",
              "   'name': 'Lord of the Drinks',\n",
              "   'user_rating': {'average_rating': 4.8, 'votes': 2086}},\n",
              "  {'city': 'Denver',\n",
              "   'estimated_cost': 160,\n",
              "   'id': 35,\n",
              "   'name': 'JLWA',\n",
              "   'user_rating': {'average_rating': 4.7, 'votes': 2825}},\n",
              "  {'city': 'Denver',\n",
              "   'estimated_cost': 180,\n",
              "   'id': 36,\n",
              "   'name': 'Plum by Bent Chair',\n",
              "   'user_rating': {'average_rating': 4.9, 'votes': 1657}},\n",
              "  {'city': 'Denver',\n",
              "   'estimated_cost': 120,\n",
              "   'id': 37,\n",
              "   'name': 'Hitchki',\n",
              "   'user_rating': {'average_rating': 4.8, 'votes': 3174}},\n",
              "  {'city': 'Denver',\n",
              "   'estimated_cost': 140,\n",
              "   'id': 38,\n",
              "   'name': 'Carter Road Social',\n",
              "   'user_rating': {'average_rating': 4.6, 'votes': 2311}},\n",
              "  {'city': 'Denver',\n",
              "   'estimated_cost': 120,\n",
              "   'id': 39,\n",
              "   'name': \"R' ADDA\",\n",
              "   'user_rating': {'average_rating': 4.9, 'votes': 4255}},\n",
              "  {'city': 'Denver',\n",
              "   'estimated_cost': 180,\n",
              "   'id': 310,\n",
              "   'name': 'Ada Kitchen',\n",
              "   'user_rating': {'average_rating': 4.5, 'votes': 3840}}],\n",
              " 'page_2': [{'city': 'Denver',\n",
              "   'estimated_cost': 120,\n",
              "   'id': 311,\n",
              "   'name': 'Hitch',\n",
              "   'user_rating': {'average_rating': 4.8, 'votes': 3277}},\n",
              "  {'city': 'Denver',\n",
              "   'estimated_cost': 160,\n",
              "   'id': 312,\n",
              "   'name': 'The Fusion Kitchen',\n",
              "   'user_rating': {'average_rating': 4.5, 'votes': 1463}},\n",
              "  {'city': 'Denver',\n",
              "   'estimated_cost': 140,\n",
              "   'id': 313,\n",
              "   'name': 'Social',\n",
              "   'user_rating': {'average_rating': 4.6, 'votes': 7838}},\n",
              "  {'city': 'Denver',\n",
              "   'estimated_cost': 160,\n",
              "   'id': 314,\n",
              "   'name': 'Rude Lounge',\n",
              "   'user_rating': {'average_rating': 4.1, 'votes': 4353}},\n",
              "  {'city': 'Denver',\n",
              "   'estimated_cost': 120,\n",
              "   'id': 315,\n",
              "   'name': 'Hi Lounge',\n",
              "   'user_rating': {'average_rating': 4.7, 'votes': 1687}},\n",
              "  {'city': 'Denver',\n",
              "   'estimated_cost': 10,\n",
              "   'id': 316,\n",
              "   'name': 'BKC DIVE',\n",
              "   'user_rating': {'average_rating': 4.6, 'votes': 5687}},\n",
              "  {'city': 'Denver',\n",
              "   'estimated_cost': 140,\n",
              "   'id': 317,\n",
              "   'name': 'Capital Social',\n",
              "   'user_rating': {'average_rating': 4.4, 'votes': 2937}},\n",
              "  {'city': 'Denver',\n",
              "   'estimated_cost': 80,\n",
              "   'id': 318,\n",
              "   'name': \"Joey's Pizza\",\n",
              "   'user_rating': {'average_rating': 4.6, 'votes': 6909}},\n",
              "  {'city': 'Denver',\n",
              "   'estimated_cost': 140,\n",
              "   'id': 319,\n",
              "   'name': \"Chili's American Grill & Bar\",\n",
              "   'user_rating': {'average_rating': 4.6, 'votes': 6814}},\n",
              "  {'city': 'Denver',\n",
              "   'estimated_cost': 10,\n",
              "   'id': 320,\n",
              "   'name': 'Vedge',\n",
              "   'user_rating': {'average_rating': 4.7, 'votes': 3837}}],\n",
              " 'page_3': [{'city': 'Denver',\n",
              "   'estimated_cost': 80,\n",
              "   'id': 321,\n",
              "   'name': \"Joey's Pizza\",\n",
              "   'user_rating': {'average_rating': 4.6, 'votes': 8289}},\n",
              "  {'city': 'Denver',\n",
              "   'estimated_cost': 110,\n",
              "   'id': 322,\n",
              "   'name': \"Grandmama's Cafe\",\n",
              "   'user_rating': {'average_rating': 4, 'votes': 3089}},\n",
              "  {'city': 'Denver',\n",
              "   'estimated_cost': 90,\n",
              "   'id': 323,\n",
              "   'name': 'Fun Republic Social',\n",
              "   'user_rating': {'average_rating': 4.6, 'votes': 2914}},\n",
              "  {'city': 'Denver',\n",
              "   'estimated_cost': 150,\n",
              "   'id': 324,\n",
              "   'name': 'English Kitchen',\n",
              "   'user_rating': {'average_rating': 4.6, 'votes': 1887}},\n",
              "  {'city': 'Denver',\n",
              "   'estimated_cost': 160,\n",
              "   'id': 325,\n",
              "   'name': 'Pi Bar and Kitchen',\n",
              "   'user_rating': {'average_rating': 4.6, 'votes': 1927}},\n",
              "  {'city': 'Denver',\n",
              "   'estimated_cost': 80,\n",
              "   'id': 326,\n",
              "   'name': 'Coffee Culture',\n",
              "   'user_rating': {'average_rating': 4.1, 'votes': 5634}},\n",
              "  {'city': 'Denver',\n",
              "   'estimated_cost': 160,\n",
              "   'id': 327,\n",
              "   'name': 'S Kitchen',\n",
              "   'user_rating': {'average_rating': 4.5, 'votes': 1980}},\n",
              "  {'city': 'Denver',\n",
              "   'estimated_cost': 80,\n",
              "   'id': 328,\n",
              "   'name': 'Timess Square',\n",
              "   'user_rating': {'average_rating': 4.4, 'votes': 1648}},\n",
              "  {'city': 'Denver',\n",
              "   'estimated_cost': 180,\n",
              "   'id': 329,\n",
              "   'name': 'House Of Tipsy',\n",
              "   'user_rating': {'average_rating': 4.5, 'votes': 1558}},\n",
              "  {'city': 'Denver',\n",
              "   'estimated_cost': 280,\n",
              "   'id': 330,\n",
              "   'name': 'Yauatcha',\n",
              "   'user_rating': {'average_rating': 4.8, 'votes': 5359}}],\n",
              " 'page_4': [{'city': 'Denver',\n",
              "   'estimated_cost': 160,\n",
              "   'id': 331,\n",
              "   'name': 'HOP : House of Party',\n",
              "   'user_rating': {'average_rating': 4.7, 'votes': 813}},\n",
              "  {'city': 'Denver',\n",
              "   'estimated_cost': 140,\n",
              "   'id': 332,\n",
              "   'name': 'Palladium Social',\n",
              "   'user_rating': {'average_rating': 4.9, 'votes': 4892}},\n",
              "  {'city': 'Denver',\n",
              "   'estimated_cost': 300,\n",
              "   'id': 333,\n",
              "   'name': 'Bayroute',\n",
              "   'user_rating': {'average_rating': 4.8, 'votes': 1466}},\n",
              "  {'city': 'Denver',\n",
              "   'estimated_cost': 150,\n",
              "   'id': 334,\n",
              "   'name': 'Garage Inc. Public House',\n",
              "   'user_rating': {'average_rating': 4.5, 'votes': 684}},\n",
              "  {'city': 'Denver',\n",
              "   'estimated_cost': 70,\n",
              "   'id': 335,\n",
              "   'name': 'Jimis Burger',\n",
              "   'user_rating': {'average_rating': 4.6, 'votes': 3680}},\n",
              "  {'city': 'Denver',\n",
              "   'estimated_cost': 60,\n",
              "   'id': 336,\n",
              "   'name': 'Eat Play Love',\n",
              "   'user_rating': {'average_rating': 4, 'votes': 1178}},\n",
              "  {'city': 'Denver',\n",
              "   'estimated_cost': 150,\n",
              "   'id': 337,\n",
              "   'name': 'Tipsy Gypsy',\n",
              "   'user_rating': {'average_rating': 4.5, 'votes': 2918}},\n",
              "  {'city': 'Denver',\n",
              "   'estimated_cost': 60,\n",
              "   'id': 338,\n",
              "   'name': 'Cafe Safar',\n",
              "   'user_rating': {'average_rating': 4, 'votes': 2640}},\n",
              "  {'city': 'Denver',\n",
              "   'estimated_cost': 170,\n",
              "   'id': 339,\n",
              "   'name': 'The Cult',\n",
              "   'user_rating': {'average_rating': 4.4, 'votes': 3037}},\n",
              "  {'city': 'Denver',\n",
              "   'estimated_cost': 130,\n",
              "   'id': 340,\n",
              "   'name': 'MRP - My Regular Place',\n",
              "   'user_rating': {'average_rating': 4, 'votes': 2302}}]}"
            ]
          },
          "metadata": {},
          "execution_count": 23
        }
      ]
    },
    {
      "cell_type": "markdown",
      "source": [
        "# Q6.2: How many pages of data is available\n",
        "# Q6.3: How many restaurent ratings are present in each page?"
      ],
      "metadata": {
        "id": "ayoNNIC7zzOQ"
      }
    },
    {
      "cell_type": "code",
      "source": [
        "for i in data.keys():\n",
        "  print(i, len(data[i]))"
      ],
      "metadata": {
        "colab": {
          "base_uri": "https://localhost:8080/"
        },
        "id": "u-3bZlfozpiR",
        "outputId": "a2931eac-2ba3-4366-e368-07e85e93a541"
      },
      "execution_count": 24,
      "outputs": [
        {
          "output_type": "stream",
          "name": "stdout",
          "text": [
            "page_1 10\n",
            "page_2 10\n",
            "page_3 10\n",
            "page_4 10\n"
          ]
        }
      ]
    },
    {
      "cell_type": "markdown",
      "source": [
        "# Q6.4: Which restaurent has the highest estimated cost in each page and across all pages"
      ],
      "metadata": {
        "id": "AmQCetUB0ESu"
      }
    },
    {
      "cell_type": "code",
      "source": [
        "overall_highest_val = 0\n",
        "for page in data:\n",
        "  highest_val = 0\n",
        "  for i in data[page]:\n",
        "    if i['estimated_cost'] > highest_val:\n",
        "      highest_val = i['estimated_cost']\n",
        "    if highest_val > overall_highest_val:\n",
        "      overall_highest_val = highest_val\n",
        "  print(\"Highest value in\",page,highest_val)\n",
        "print(\"Overall highest value: \",overall_highest_val)"
      ],
      "metadata": {
        "colab": {
          "base_uri": "https://localhost:8080/"
        },
        "id": "FbQFiFxxzxXR",
        "outputId": "774949ef-1ae2-46aa-b3d5-78b78cafd49f"
      },
      "execution_count": 25,
      "outputs": [
        {
          "output_type": "stream",
          "name": "stdout",
          "text": [
            "Highest value in page_1 180\n",
            "Highest value in page_2 160\n",
            "Highest value in page_3 280\n",
            "Highest value in page_4 300\n",
            "Overall highest value:  300\n"
          ]
        }
      ]
    },
    {
      "cell_type": "markdown",
      "source": [
        "# Q6.5: Print the name and rating of restaurents which have the highest rating in each page\n"
      ],
      "metadata": {
        "id": "I0DwUStizJPj"
      }
    },
    {
      "cell_type": "code",
      "source": [
        "d = {}\n",
        "for page in data:\n",
        "  highest_val = 0\n",
        "  for i in data[page]:\n",
        "    if i['user_rating']['average_rating'] > highest_val:\n",
        "      highest_val = i['user_rating']['average_rating']\n",
        "    d[page] = highest_val\n",
        "\n",
        "for page in data:\n",
        "  for i in data[page]:\n",
        "     if i['user_rating']['average_rating'] == d[page]:\n",
        "       print(\"Name: \",i['name'], \" Rating: \",i['user_rating']['average_rating'])"
      ],
      "metadata": {
        "colab": {
          "base_uri": "https://localhost:8080/"
        },
        "id": "zXbUIvx81owk",
        "outputId": "8875783f-2126-4f3b-b74c-153ad6312af1"
      },
      "execution_count": 26,
      "outputs": [
        {
          "output_type": "stream",
          "name": "stdout",
          "text": [
            "Name:  Sushi Kashiba  Rating:  4.9\n",
            "Name:  Peninsula Grand Hotel  Rating:  4.9\n",
            "Name:  Plum by Bent Chair  Rating:  4.9\n",
            "Name:  R' ADDA  Rating:  4.9\n",
            "Name:  Hitch  Rating:  4.8\n",
            "Name:  Yauatcha  Rating:  4.8\n",
            "Name:  Palladium Social  Rating:  4.9\n"
          ]
        }
      ]
    }
  ]
}